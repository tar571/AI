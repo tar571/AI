{
  "nbformat": 4,
  "nbformat_minor": 0,
  "metadata": {
    "colab": {
      "name": "chatboxproject.ipynb",
      "provenance": [],
      "collapsed_sections": [],
      "toc_visible": true
    },
    "kernelspec": {
      "name": "python3",
      "display_name": "Python 3"
    }
  },
  "cells": [
    {
      "cell_type": "markdown",
      "metadata": {
        "id": "8_3TYqNuTRfx",
        "colab_type": "text"
      },
      "source": [
        "Importations"
      ]
    },
    {
      "cell_type": "code",
      "metadata": {
        "id": "eF04GfD9Sma1",
        "colab_type": "code",
        "colab": {}
      },
      "source": [
        "import nltk\n",
        "import numpy as np\n",
        "import random\n",
        "import string # to process standard python strings\n",
        "import warnings\n",
        "warnings.filterwarnings('ignore')\n"
      ],
      "execution_count": 12,
      "outputs": []
    },
    {
      "cell_type": "code",
      "metadata": {
        "id": "UEOEiK0ppcsJ",
        "colab_type": "code",
        "colab": {
          "base_uri": "https://localhost:8080/",
          "height": 54
        },
        "outputId": "e813f8ef-5080-49a4-d275-aac482a3076f"
      },
      "source": [
        "from google.colab import drive\n",
        "drive.mount('/content/drive')"
      ],
      "execution_count": 13,
      "outputs": [
        {
          "output_type": "stream",
          "text": [
            "Drive already mounted at /content/drive; to attempt to forcibly remount, call drive.mount(\"/content/drive\", force_remount=True).\n"
          ],
          "name": "stdout"
        }
      ]
    },
    {
      "cell_type": "markdown",
      "metadata": {
        "id": "dVqjsxEWUdZ_",
        "colab_type": "text"
      },
      "source": [
        "Lecture de donnees du fichier"
      ]
    },
    {
      "cell_type": "code",
      "metadata": {
        "id": "B4RWJPrzUnEW",
        "colab_type": "code",
        "colab": {
          "base_uri": "https://localhost:8080/",
          "height": 85
        },
        "outputId": "aeaad3a3-70f7-4d17-fd63-894c6108a766"
      },
      "source": [
        "f=open('/content/drive/My Drive/Racisme.txt','r',errors = 'ignore')\n",
        "raw=f.read()\n",
        "raw=raw.lower()# converts to lowercase\n",
        "nltk.download('punkt') # first-time use only\n",
        "nltk.download('wordnet') # first-time use only\n",
        "sent_tokens = nltk.sent_tokenize(raw)# converts to list of sentences \n",
        "word_tokens = nltk.word_tokenize(raw)# converts to list of words"
      ],
      "execution_count": 14,
      "outputs": [
        {
          "output_type": "stream",
          "text": [
            "[nltk_data] Downloading package punkt to /root/nltk_data...\n",
            "[nltk_data]   Package punkt is already up-to-date!\n",
            "[nltk_data] Downloading package wordnet to /root/nltk_data...\n",
            "[nltk_data]   Package wordnet is already up-to-date!\n"
          ],
          "name": "stdout"
        }
      ]
    },
    {
      "cell_type": "markdown",
      "metadata": {
        "id": "CDTidQD2ZQdo",
        "colab_type": "text"
      },
      "source": [
        "sent tokens words tokens"
      ]
    },
    {
      "cell_type": "code",
      "metadata": {
        "id": "nVz_QZ7JZa0v",
        "colab_type": "code",
        "colab": {
          "base_uri": "https://localhost:8080/",
          "height": 34
        },
        "outputId": "b6d46a36-552c-4405-d748-0e2c5e1d9da5"
      },
      "source": [
        "sent_tokens[:2]\n",
        "['un chatbot (également appelé talkbot, chatterbot, bot, im bot, agent interactif ou entité conversationnelle artificielle) est un programme informatique ou une intelligence artificielle qui mène une conversation via des méthodes auditives ou textuelles. ',\n",
        " '«ces programmes sont souvent conçus pour simuler de manière convaincante comment un humain se comporterait comme un partenaire conversationnel, réussissant ainsi le test de turing.»']\n",
        "word_tokens[:2]\n",
        "['a', 'chatbot', '(', 'also', 'known']"
      ],
      "execution_count": 15,
      "outputs": [
        {
          "output_type": "execute_result",
          "data": {
            "text/plain": [
              "['a', 'chatbot', '(', 'also', 'known']"
            ]
          },
          "metadata": {
            "tags": []
          },
          "execution_count": 15
        }
      ]
    },
    {
      "cell_type": "markdown",
      "metadata": {
        "id": "UIWQ0zWaZjDt",
        "colab_type": "text"
      },
      "source": [
        "Pre-processing the raw text"
      ]
    },
    {
      "cell_type": "code",
      "metadata": {
        "id": "S2WclGy7ZsTx",
        "colab_type": "code",
        "colab": {}
      },
      "source": [
        "lemmer = nltk.stem.WordNetLemmatizer()\n",
        "#WordNet is a semantically-oriented dictionary of English included in NLTK.\n",
        "def LemTokens(tokens):\n",
        "    return [lemmer.lemmatize(token) for token in tokens]\n",
        "remove_punct_dict = dict((ord(punct), None) for punct in string.punctuation)\n",
        "def LemNormalize(text):\n",
        "    return LemTokens(nltk.word_tokenize(text.lower().translate(remove_punct_dict)))"
      ],
      "execution_count": 16,
      "outputs": []
    },
    {
      "cell_type": "markdown",
      "metadata": {
        "id": "eusJx5fJZynz",
        "colab_type": "text"
      },
      "source": [
        "Keyword matching"
      ]
    },
    {
      "cell_type": "code",
      "metadata": {
        "id": "a_EsJnPqZ5Zv",
        "colab_type": "code",
        "colab": {}
      },
      "source": [
        "GREETING_INPUTS = (\"bonjour\", \"salut\", \"quoi de neuf\", \"salam\", \"Bienvenu\")\n",
        "GREETING_RESPONSES = [\"bonjour\", \"salut\", \"quoi de neuf\", \"salam\", \"Bienvenu\"]\n",
        "def greeting(sentence):\n",
        " \n",
        "    for word in sentence.split():\n",
        "        if word.lower() in GREETING_INPUTS:\n",
        "            return random.choice(GREETING_RESPONSES)"
      ],
      "execution_count": 17,
      "outputs": []
    },
    {
      "cell_type": "markdown",
      "metadata": {
        "id": "xkYmJvs1apM6",
        "colab_type": "text"
      },
      "source": [
        "Generating Response"
      ]
    },
    {
      "cell_type": "code",
      "metadata": {
        "id": "5mkoBef1bJIt",
        "colab_type": "code",
        "colab": {}
      },
      "source": [
        "from sklearn.feature_extraction.text import TfidfVectorizer\n"
      ],
      "execution_count": 18,
      "outputs": []
    },
    {
      "cell_type": "markdown",
      "metadata": {
        "id": "46UiUuvFbnsM",
        "colab_type": "text"
      },
      "source": [
        "import cosine"
      ]
    },
    {
      "cell_type": "code",
      "metadata": {
        "id": "uu8cQuD7bOr7",
        "colab_type": "code",
        "colab": {}
      },
      "source": [
        "from sklearn.metrics.pairwise import cosine_similarity"
      ],
      "execution_count": 19,
      "outputs": []
    },
    {
      "cell_type": "markdown",
      "metadata": {
        "id": "Vp24F9f4bt0j",
        "colab_type": "text"
      },
      "source": [
        "Response"
      ]
    },
    {
      "cell_type": "code",
      "metadata": {
        "id": "owkk3ztbbs2X",
        "colab_type": "code",
        "colab": {}
      },
      "source": [
        "def response(user_response):\n",
        "    robo_response=''\n",
        "    sent_tokens.append(user_response)\n",
        "    TfidfVec = TfidfVectorizer(tokenizer=LemNormalize, stop_words='english')\n",
        "    tfidf = TfidfVec.fit_transform(sent_tokens)\n",
        "    vals = cosine_similarity(tfidf[-1], tfidf)\n",
        "    idx=vals.argsort()[0][-2]\n",
        "    flat = vals.flatten()\n",
        "    flat.sort()\n",
        "    req_tfidf = flat[-2]\n",
        "    if(req_tfidf==0):\n",
        "        robo_response=robo_response+\"Desole! je ne vous compremd pas\"\n",
        "        return robo_response\n",
        "    else:\n",
        "        robo_response = robo_response+sent_tokens[idx]\n",
        "        return robo_response"
      ],
      "execution_count": 20,
      "outputs": []
    },
    {
      "cell_type": "markdown",
      "metadata": {
        "id": "3yp5ZXGEcUrx",
        "colab_type": "text"
      },
      "source": [
        "Feeding lines"
      ]
    },
    {
      "cell_type": "code",
      "metadata": {
        "id": "_nisRUhecSlg",
        "colab_type": "code",
        "colab": {
          "base_uri": "https://localhost:8080/",
          "height": 187
        },
        "outputId": "ca1f8401-bc02-473d-e028-e2300abc6069"
      },
      "source": [
        "flag=True\n",
        "print(\"ROBO: je me nomme Robo. je vous repondrai sur vos questions concernant le Racisme. si vous voulez quitter, taper bye!\")\n",
        "while(flag==True):\n",
        "    user_response = input()\n",
        "    user_response=user_response.lower()\n",
        "    if(user_response!='bye'):\n",
        "        if(user_response=='merci' or user_response=='je vous remercie' ):\n",
        "            flag=False\n",
        "            print(\"ROBO: vous etes la bienvenue..\")\n",
        "        else:\n",
        "            if(greeting(user_response)!=None):\n",
        "                print(\"ROBO: \"+greeting(user_response))\n",
        "            else:\n",
        "                print(\"ROBO: \",end=\"\")\n",
        "                print(response(user_response))\n",
        "                sent_tokens.remove(user_response)\n",
        "    else:\n",
        "        flag=False\n",
        "        print(\"ROBO:  au revoir!..\")"
      ],
      "execution_count": null,
      "outputs": [
        {
          "output_type": "stream",
          "text": [
            "ROBO: je me nomme Robo. je vous repondrai sur vos questions concernant le Racisme. si vous voulez quitter, taper bye!\n",
            "ROBO: bonjour\n",
            "ROBO: le racisme est une idéologie qui, partant du postulat1 de l'existence de races au sein de l'espèce humaine2, \n",
            "considère que certaines catégories de personnes sont intrinsèquement supérieures à d'autres2.\n",
            "ROBO: le racisme est une idéologie qui, partant du postulat1 de l'existence de races au sein de l'espèce humaine2, \n",
            "considère que certaines catégories de personnes sont intrinsèquement supérieures à d'autres2.\n",
            "ROBO: le petit larousse a deux définitions du racisme, au sens strict du terme, \n",
            "comme « idéologie fondée sur la croyance qu'il existe une hiérarchie entre les groupes humains, les « races » ; \n",
            "comportement inspiré par cette idéologie », et au sens large du terme, comme « une attitude d’hostilité répétée \n",
            "voire systématique à l’égard d’une catégorie déterminée de personnes ».\n"
          ],
          "name": "stdout"
        }
      ]
    }
  ]
}